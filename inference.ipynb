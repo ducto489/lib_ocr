{
 "cells": [
  {
   "cell_type": "code",
   "execution_count": null,
   "metadata": {},
   "outputs": [],
   "source": [
    "from data import PredictLightningWrapper\n",
    "from nvidia.dali.pipeline import pipeline_def\n",
    "import nvidia.dali.types as types\n",
    "import nvidia.dali.fn as fn\n",
    "from pytorch_lightning import LightningDataModule\n",
    "import numpy as np\n",
    "import torch\n",
    "\n",
    "from main import OCRModel\n",
    "from inference import Inference"
   ]
  },
  {
   "cell_type": "code",
   "execution_count": null,
   "metadata": {},
   "outputs": [],
   "source": [
    "! wget https://vocr.vn/data/vietocr/sample.zip\n",
    "! unzip  -qq -o sample.zip"
   ]
  },
  {
   "cell_type": "code",
   "execution_count": null,
   "metadata": {},
   "outputs": [],
   "source": [
    "inference = Inference(image_path=\"inference_image/abc/paper_img_002844.png\")\n",
    "predict_dataloader = inference.predict_dataloader()\n",
    "model = OCRModel.load_from_checkpoint(\n",
    "    args.checkpoint, strict=True, batch_max_length=200, dali=True, map_location=\"cuda\", pred_name=\"attn\"\n",
    ")\n",
    "model.eval()\n",
    "\n",
    "for batch in predict_dataloader:\n",
    "    preds = model.predict_step(batch, 0)\n",
    "    print(preds)"
   ]
  }
 ],
 "metadata": {
  "kernelspec": {
   "display_name": "ocr",
   "language": "python",
   "name": "python3"
  },
  "language_info": {
   "name": "python",
   "version": "3.11.11"
  }
 },
 "nbformat": 4,
 "nbformat_minor": 2
}
