{
 "cells": [
  {
   "cell_type": "markdown",
   "metadata": {
    "vscode": {
     "languageId": "plaintext"
    }
   },
   "source": [
    "# ocr"
   ]
  },
  {
   "cell_type": "code",
   "execution_count": 1,
   "metadata": {},
   "outputs": [],
   "source": [
    "%load_ext autoreload\n",
    "%autoreload 2\n",
    "import sys\n",
    "sys.path.append(\"..\")\n",
    "\n",
    "import torch\n",
    "device = \"cuda:0\" if torch.cuda.is_available() else \"cpu\"\n",
    "from utils import CTCLabelConverter"
   ]
  },
  {
   "cell_type": "markdown",
   "metadata": {
    "vscode": {
     "languageId": "plaintext"
    }
   },
   "source": [
    "## data"
   ]
  },
  {
   "cell_type": "code",
   "execution_count": 2,
   "metadata": {},
   "outputs": [
    {
     "name": "stderr",
     "output_type": "stream",
     "text": [
      "/home/pc/miniconda3/envs/mlops/lib/python3.11/site-packages/tqdm/auto.py:21: TqdmWarning: IProgress not found. Please update jupyter and ipywidgets. See https://ipywidgets.readthedocs.io/en/stable/user_install.html\n",
      "  from .autonotebook import tqdm as notebook_tqdm\n"
     ]
    }
   ],
   "source": [
    "from data.dataset import OCRDataset\n",
    "from data.dataset import get_vocab"
   ]
  },
  {
   "cell_type": "code",
   "execution_count": 3,
   "metadata": {},
   "outputs": [],
   "source": [
    "image_path = \"/home/pc/Desktop/coding/vision/lib_ocr/trainning_images\"\n",
    "VOCAB = get_vocab(image_path)\n",
    "toy_dataset = OCRDataset(image_path)\n"
   ]
  },
  {
   "cell_type": "code",
   "execution_count": 4,
   "metadata": {},
   "outputs": [],
   "source": [
    "convert = CTCLabelConverter(VOCAB, device)"
   ]
  },
  {
   "cell_type": "markdown",
   "metadata": {},
   "source": [
    "## model"
   ]
  },
  {
   "cell_type": "code",
   "execution_count": 5,
   "metadata": {},
   "outputs": [],
   "source": [
    "from models.backbones import ResNet_FeatureExtractor\n",
    "from models.pred_modules import CTC_Predictor"
   ]
  },
  {
   "cell_type": "code",
   "execution_count": 6,
   "metadata": {},
   "outputs": [],
   "source": [
    "from torch import nn\n",
    "class OCR_model_T1(nn.Module):\n",
    "    def __init__(self, input_channels, num_classes):\n",
    "        super().__init__()\n",
    "        self.FeatureExtraction = ResNet_FeatureExtractor(input_channels,512)\n",
    "        self.AdaptiveAvgPool = nn.AdaptiveAvgPool2d((None, 1))\n",
    "        self.Predictor = CTC_Predictor(512, num_classes)\n",
    "        \n",
    "        \n",
    "    def forward(self, input):\n",
    "        # import pdb; pdb.set_trace()\n",
    "        # input: [b, c, h, w] \n",
    "        # input: torch.Size([8, 1, 32, 100])\n",
    "\n",
    "        visual_feature = self.FeatureExtraction(input) \n",
    "        # visual_feature: torch.Size([8, 512, 1, 26])\n",
    "\n",
    "        visual_feature = self.AdaptiveAvgPool(visual_feature.permute(0, 3, 1, 2))  # [b, c, h, w] -> [b, w, c, h]\n",
    "        # visual_feature: torch.Size([8, 26, 512, 1])\n",
    "\n",
    "        visual_feature = visual_feature.squeeze(3)\n",
    "        # visual_feature: torch.Size([8, 26, 512])\n",
    "\n",
    "        prediction = self.Predictor(visual_feature.contiguous())\n",
    "        # prediction: torch.Size([8, 26, 94])\n",
    "        return prediction\n",
    "    \n",
    "model = OCR_model_T1(1, len(convert.character)).to(device)\n"
   ]
  },
  {
   "cell_type": "code",
   "execution_count": 7,
   "metadata": {},
   "outputs": [],
   "source": [
    "import torch\n",
    "from data.dataset import AlignCollate\n",
    "align_collate = AlignCollate()\n",
    "batch_size = 32\n",
    "data_loader = torch.utils.data.DataLoader(toy_dataset, \n",
    "                                          batch_size=batch_size, \n",
    "                                          shuffle=True,\n",
    "                                          pin_memory=True,\n",
    "                                            num_workers=4, # delete this line if you debug\n",
    "                                          collate_fn=align_collate)\n",
    "# import pdb; pdb.set_trace()\n",
    "sample = next(iter(data_loader))"
   ]
  },
  {
   "cell_type": "code",
   "execution_count": 8,
   "metadata": {},
   "outputs": [
    {
     "data": {
      "text/plain": [
       "torch.Size([32, 1, 32, 100])"
      ]
     },
     "execution_count": 8,
     "metadata": {},
     "output_type": "execute_result"
    }
   ],
   "source": [
    "sample[0].shape"
   ]
  },
  {
   "cell_type": "code",
   "execution_count": 9,
   "metadata": {},
   "outputs": [
    {
     "data": {
      "text/plain": [
       "['Mua',\n",
       " 'Ford Mustang',\n",
       " 'ngoài. Có',\n",
       " 'TTGT',\n",
       " 'ha cà',\n",
       " 'nào?. Mua nhà',\n",
       " '500m³ cát trái',\n",
       " 'bà',\n",
       " 'bóng',\n",
       " 'trinh',\n",
       " 'trong tháng',\n",
       " 'thu hút',\n",
       " 'Long -',\n",
       " 'Bí.',\n",
       " 'xóa',\n",
       " 'Venezuela',\n",
       " 'cao',\n",
       " 'giá vé',\n",
       " 'thi',\n",
       " 'Bình xin phá',\n",
       " 'y',\n",
       " 'Nhìn',\n",
       " 'dày khi',\n",
       " 'Mê Linh',\n",
       " 'công',\n",
       " 'ký',\n",
       " 'Lào Cai.',\n",
       " 'công an.',\n",
       " \"xanh'\",\n",
       " 'sát',\n",
       " 'pháp lý.',\n",
       " 'Sài Gòn.']"
      ]
     },
     "execution_count": 9,
     "metadata": {},
     "output_type": "execute_result"
    }
   ],
   "source": [
    "sample[1]"
   ]
  },
  {
   "cell_type": "code",
   "execution_count": 10,
   "metadata": {},
   "outputs": [],
   "source": [
    "\n",
    "# with torch.inference_mode():\n",
    "#     y_pred = model(sample[0])\n",
    "#     print(y_pred.shape)"
   ]
  },
  {
   "cell_type": "markdown",
   "metadata": {},
   "source": [
    "## traning loop"
   ]
  },
  {
   "cell_type": "code",
   "execution_count": 11,
   "metadata": {},
   "outputs": [
    {
     "name": "stdout",
     "output_type": "stream",
     "text": [
      "cuda:0\n"
     ]
    }
   ],
   "source": [
    "import torch\n",
    "device = \"cuda:0\" if torch.cuda.is_available() else \"cpu\"\n",
    "print(device)"
   ]
  },
  {
   "cell_type": "code",
   "execution_count": 12,
   "metadata": {},
   "outputs": [
    {
     "name": "stderr",
     "output_type": "stream",
     "text": [
      "  0%|          | 0/30 [00:00<?, ?it/s]"
     ]
    },
    {
     "name": "stderr",
     "output_type": "stream",
     "text": []
    },
    {
     "name": "stdout",
     "output_type": "stream",
     "text": [
      "Epoch: 0, Batch: 0, Loss: 29.564260482788086\n"
     ]
    },
    {
     "name": "stderr",
     "output_type": "stream",
     "text": [
      "32it [00:04,  7.24it/s]\n",
      "  3%|▎         | 1/30 [00:04<02:09,  4.46s/it]"
     ]
    },
    {
     "name": "stdout",
     "output_type": "stream",
     "text": [
      "Epoch: 1, Batch: 0, Loss: 4.744544982910156\n"
     ]
    },
    {
     "name": "stderr",
     "output_type": "stream",
     "text": [
      "32it [00:04,  7.92it/s]\n",
      "  7%|▋         | 2/30 [00:08<01:59,  4.25s/it]"
     ]
    },
    {
     "name": "stdout",
     "output_type": "stream",
     "text": [
      "Epoch: 2, Batch: 0, Loss: 4.214029312133789\n"
     ]
    },
    {
     "name": "stderr",
     "output_type": "stream",
     "text": [
      "32it [00:04,  7.98it/s]\n",
      " 10%|█         | 3/30 [00:12<01:52,  4.17s/it]"
     ]
    },
    {
     "name": "stdout",
     "output_type": "stream",
     "text": [
      "Epoch: 3, Batch: 0, Loss: 3.7074358463287354\n"
     ]
    },
    {
     "name": "stderr",
     "output_type": "stream",
     "text": [
      "32it [00:04,  8.00it/s]\n",
      " 13%|█▎        | 4/30 [00:16<01:47,  4.12s/it]"
     ]
    },
    {
     "name": "stdout",
     "output_type": "stream",
     "text": [
      "Epoch: 4, Batch: 0, Loss: 4.21854305267334\n"
     ]
    },
    {
     "name": "stderr",
     "output_type": "stream",
     "text": [
      "32it [00:03,  8.05it/s]\n",
      " 17%|█▋        | 5/30 [00:20<01:42,  4.09s/it]"
     ]
    },
    {
     "name": "stdout",
     "output_type": "stream",
     "text": [
      "Epoch: 5, Batch: 0, Loss: 3.6330366134643555\n"
     ]
    },
    {
     "name": "stderr",
     "output_type": "stream",
     "text": [
      "32it [00:04,  7.98it/s]\n",
      " 20%|██        | 6/30 [00:24<01:37,  4.08s/it]"
     ]
    },
    {
     "name": "stdout",
     "output_type": "stream",
     "text": [
      "Epoch: 6, Batch: 0, Loss: 3.702418804168701\n"
     ]
    },
    {
     "name": "stderr",
     "output_type": "stream",
     "text": [
      "32it [00:04,  7.94it/s]\n",
      " 23%|██▎       | 7/30 [00:28<01:33,  4.08s/it]"
     ]
    },
    {
     "name": "stdout",
     "output_type": "stream",
     "text": [
      "Epoch: 7, Batch: 0, Loss: 3.5576744079589844\n"
     ]
    },
    {
     "name": "stderr",
     "output_type": "stream",
     "text": [
      "32it [00:03,  8.00it/s]\n",
      " 27%|██▋       | 8/30 [00:32<01:29,  4.08s/it]"
     ]
    },
    {
     "name": "stdout",
     "output_type": "stream",
     "text": [
      "Epoch: 8, Batch: 0, Loss: 3.5335774421691895\n"
     ]
    },
    {
     "name": "stderr",
     "output_type": "stream",
     "text": [
      "32it [00:03,  8.00it/s]\n",
      " 30%|███       | 9/30 [00:36<01:25,  4.07s/it]"
     ]
    },
    {
     "name": "stdout",
     "output_type": "stream",
     "text": [
      "Epoch: 9, Batch: 0, Loss: 3.534176826477051\n"
     ]
    },
    {
     "name": "stderr",
     "output_type": "stream",
     "text": [
      "32it [00:03,  8.01it/s]\n",
      " 33%|███▎      | 10/30 [00:41<01:21,  4.06s/it]"
     ]
    },
    {
     "name": "stdout",
     "output_type": "stream",
     "text": [
      "Epoch: 10, Batch: 0, Loss: 3.650569438934326\n"
     ]
    },
    {
     "name": "stderr",
     "output_type": "stream",
     "text": [
      "32it [00:03,  8.02it/s]\n",
      " 37%|███▋      | 11/30 [00:45<01:17,  4.06s/it]"
     ]
    },
    {
     "name": "stdout",
     "output_type": "stream",
     "text": [
      "Epoch: 11, Batch: 0, Loss: 3.542224884033203\n"
     ]
    },
    {
     "name": "stderr",
     "output_type": "stream",
     "text": [
      "32it [00:03,  8.02it/s]\n",
      " 40%|████      | 12/30 [00:49<01:12,  4.05s/it]"
     ]
    },
    {
     "name": "stdout",
     "output_type": "stream",
     "text": [
      "Epoch: 12, Batch: 0, Loss: 3.3296008110046387\n"
     ]
    },
    {
     "name": "stderr",
     "output_type": "stream",
     "text": [
      "32it [00:04,  7.99it/s]\n",
      " 43%|████▎     | 13/30 [00:53<01:08,  4.05s/it]"
     ]
    },
    {
     "name": "stdout",
     "output_type": "stream",
     "text": [
      "Epoch: 13, Batch: 0, Loss: 3.7096481323242188\n"
     ]
    },
    {
     "name": "stderr",
     "output_type": "stream",
     "text": [
      "32it [00:04,  7.94it/s]\n",
      " 47%|████▋     | 14/30 [00:57<01:05,  4.06s/it]"
     ]
    },
    {
     "name": "stdout",
     "output_type": "stream",
     "text": [
      "Epoch: 14, Batch: 0, Loss: 2.925893783569336\n"
     ]
    },
    {
     "name": "stderr",
     "output_type": "stream",
     "text": [
      "32it [00:03,  8.00it/s]\n",
      " 50%|█████     | 15/30 [01:01<01:00,  4.06s/it]"
     ]
    },
    {
     "name": "stdout",
     "output_type": "stream",
     "text": [
      "Epoch: 15, Batch: 0, Loss: 3.0345678329467773\n"
     ]
    },
    {
     "name": "stderr",
     "output_type": "stream",
     "text": [
      "32it [00:04,  7.97it/s]\n",
      " 53%|█████▎    | 16/30 [01:05<00:56,  4.07s/it]"
     ]
    },
    {
     "name": "stdout",
     "output_type": "stream",
     "text": [
      "Epoch: 16, Batch: 0, Loss: 3.1404309272766113\n"
     ]
    },
    {
     "name": "stderr",
     "output_type": "stream",
     "text": [
      "32it [00:04,  7.97it/s]\n",
      " 57%|█████▋    | 17/30 [01:09<00:52,  4.07s/it]"
     ]
    },
    {
     "name": "stdout",
     "output_type": "stream",
     "text": [
      "Epoch: 17, Batch: 0, Loss: 3.178518295288086\n"
     ]
    },
    {
     "name": "stderr",
     "output_type": "stream",
     "text": [
      "32it [00:04,  7.98it/s]\n",
      " 60%|██████    | 18/30 [01:13<00:48,  4.07s/it]"
     ]
    },
    {
     "name": "stdout",
     "output_type": "stream",
     "text": [
      "Epoch: 18, Batch: 0, Loss: 2.815819263458252\n"
     ]
    },
    {
     "name": "stderr",
     "output_type": "stream",
     "text": [
      "32it [00:04,  7.98it/s]\n",
      " 63%|██████▎   | 19/30 [01:17<00:44,  4.06s/it]"
     ]
    },
    {
     "name": "stdout",
     "output_type": "stream",
     "text": [
      "Epoch: 19, Batch: 0, Loss: 2.340116262435913\n"
     ]
    },
    {
     "name": "stderr",
     "output_type": "stream",
     "text": [
      "32it [00:04,  7.96it/s]\n",
      " 67%|██████▋   | 20/30 [01:21<00:40,  4.07s/it]"
     ]
    },
    {
     "name": "stdout",
     "output_type": "stream",
     "text": [
      "Epoch: 20, Batch: 0, Loss: 2.3880372047424316\n"
     ]
    },
    {
     "name": "stderr",
     "output_type": "stream",
     "text": [
      "32it [00:04,  7.93it/s]\n",
      " 70%|███████   | 21/30 [01:25<00:36,  4.08s/it]"
     ]
    },
    {
     "name": "stdout",
     "output_type": "stream",
     "text": [
      "Epoch: 21, Batch: 0, Loss: 2.0888001918792725\n"
     ]
    },
    {
     "name": "stderr",
     "output_type": "stream",
     "text": [
      "32it [00:04,  7.99it/s]\n",
      " 73%|███████▎  | 22/30 [01:29<00:32,  4.08s/it]"
     ]
    },
    {
     "name": "stdout",
     "output_type": "stream",
     "text": [
      "Epoch: 22, Batch: 0, Loss: 1.9492268562316895\n"
     ]
    },
    {
     "name": "stderr",
     "output_type": "stream",
     "text": [
      "32it [00:04,  8.00it/s]\n",
      " 77%|███████▋  | 23/30 [01:33<00:28,  4.07s/it]"
     ]
    },
    {
     "name": "stdout",
     "output_type": "stream",
     "text": [
      "Epoch: 23, Batch: 0, Loss: 1.9793633222579956\n"
     ]
    },
    {
     "name": "stderr",
     "output_type": "stream",
     "text": [
      "32it [00:04,  7.94it/s]\n",
      " 80%|████████  | 24/30 [01:37<00:24,  4.08s/it]"
     ]
    },
    {
     "name": "stdout",
     "output_type": "stream",
     "text": [
      "Epoch: 24, Batch: 0, Loss: 1.5852329730987549\n"
     ]
    },
    {
     "name": "stderr",
     "output_type": "stream",
     "text": [
      "32it [00:04,  7.93it/s]\n",
      " 83%|████████▎ | 25/30 [01:42<00:20,  4.09s/it]"
     ]
    },
    {
     "name": "stdout",
     "output_type": "stream",
     "text": [
      "Epoch: 25, Batch: 0, Loss: 1.6026864051818848\n"
     ]
    },
    {
     "name": "stderr",
     "output_type": "stream",
     "text": [
      "32it [00:04,  7.90it/s]\n",
      " 87%|████████▋ | 26/30 [01:46<00:16,  4.09s/it]"
     ]
    },
    {
     "name": "stdout",
     "output_type": "stream",
     "text": [
      "Epoch: 26, Batch: 0, Loss: 0.9912487864494324\n"
     ]
    },
    {
     "name": "stderr",
     "output_type": "stream",
     "text": [
      "32it [00:04,  7.87it/s]\n",
      " 90%|█████████ | 27/30 [01:50<00:12,  4.10s/it]"
     ]
    },
    {
     "name": "stdout",
     "output_type": "stream",
     "text": [
      "Epoch: 27, Batch: 0, Loss: 0.9377477169036865\n"
     ]
    },
    {
     "name": "stderr",
     "output_type": "stream",
     "text": [
      "32it [00:04,  7.90it/s]\n",
      " 93%|█████████▎| 28/30 [01:54<00:08,  4.10s/it]"
     ]
    },
    {
     "name": "stdout",
     "output_type": "stream",
     "text": [
      "Epoch: 28, Batch: 0, Loss: 1.1247371435165405\n"
     ]
    },
    {
     "name": "stderr",
     "output_type": "stream",
     "text": [
      "32it [00:04,  7.90it/s]\n",
      " 97%|█████████▋| 29/30 [01:58<00:04,  4.10s/it]"
     ]
    },
    {
     "name": "stdout",
     "output_type": "stream",
     "text": [
      "Epoch: 29, Batch: 0, Loss: 0.9792147874832153\n"
     ]
    },
    {
     "name": "stderr",
     "output_type": "stream",
     "text": [
      "32it [00:04,  7.84it/s]\n",
      "100%|██████████| 30/30 [02:02<00:00,  4.09s/it]\n"
     ]
    }
   ],
   "source": [
    "from torch.optim import Adam\n",
    "from torch.nn import CTCLoss\n",
    "from tqdm.auto import tqdm\n",
    "\n",
    "optimizer = Adam(model.parameters(), lr=1e-3)\n",
    "ctc_loss = CTCLoss().to(device)  # Ensure blank index matches your vocab\n",
    "model.train()\n",
    "\n",
    "for epoch in tqdm(range(30)):\n",
    "    for idx, (image, labels) in tqdm(enumerate(data_loader)):\n",
    "        # Encode labels\n",
    "        text, length = convert.encode(labels, batch_max_length=len(VOCAB))\n",
    "        \n",
    "        \n",
    "        # Forward pass\n",
    "        preds = model(image.to(device))\n",
    "        \n",
    "        # Ensure `preds_size` matches batch size\n",
    "        batch_size = image.size(0)\n",
    "        preds_size = torch.IntTensor([preds.size(1)] * batch_size)  # Each sequence has `preds.size(1)` timesteps\n",
    "        \n",
    "        preds = preds.log_softmax(2).permute(1, 0, 2)  \n",
    "        \n",
    "        # Compute CTC loss\n",
    "        loss = ctc_loss(preds, text, preds_size, length)\n",
    "        \n",
    "        model.zero_grad()\n",
    "        loss.backward()\n",
    "        torch.nn.utils.clip_grad_norm_(model.parameters(), 5)  # gradient clipping with 5 (Default)\n",
    "        optimizer.step()\n",
    "        \n",
    "        # Logging\n",
    "        if idx % 100 == 0:\n",
    "            print(f\"Epoch: {epoch}, Batch: {idx}, Loss: {loss.item()}\")\n",
    "    "
   ]
  }
 ],
 "metadata": {
  "kernelspec": {
   "display_name": "mlops",
   "language": "python",
   "name": "python3"
  },
  "language_info": {
   "codemirror_mode": {
    "name": "ipython",
    "version": 3
   },
   "file_extension": ".py",
   "mimetype": "text/x-python",
   "name": "python",
   "nbconvert_exporter": "python",
   "pygments_lexer": "ipython3",
   "version": "3.11.8"
  }
 },
 "nbformat": 4,
 "nbformat_minor": 2
}
