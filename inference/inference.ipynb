{
 "cells": [
  {
   "cell_type": "code",
   "execution_count": null,
   "metadata": {},
   "outputs": [],
   "source": [
    "import sys\n",
    "\n",
    "sys.path.append(\"..\")"
   ]
  },
  {
   "cell_type": "code",
   "execution_count": null,
   "metadata": {},
   "outputs": [],
   "source": [
    "from main import OCRModel\n",
    "from inference import Inference"
   ]
  },
  {
   "cell_type": "code",
   "execution_count": null,
   "metadata": {},
   "outputs": [],
   "source": [
    "checkpoint = \"\""
   ]
  },
  {
   "cell_type": "code",
   "execution_count": null,
   "metadata": {},
   "outputs": [],
   "source": [
    "inference = Inference(image_path=\"inference_image/abc/paper_img_002844.png\")\n",
    "predict_dataloader = inference.predict_dataloader()\n",
    "model = OCRModel.load_from_checkpoint(\n",
    "    checkpoint, strict=True, batch_max_length=200, dali=True, map_location=\"cuda\", pred_name=\"attn\"\n",
    ")\n",
    "model.eval()\n",
    "\n",
    "for batch in predict_dataloader:\n",
    "    preds = model.predict_step(batch, 0)\n",
    "    print(preds)"
   ]
  }
 ],
 "metadata": {
  "kernelspec": {
   "display_name": "ocr",
   "language": "python",
   "name": "python3"
  },
  "language_info": {
   "name": "python",
   "version": "3.11.11"
  }
 },
 "nbformat": 4,
 "nbformat_minor": 2
}
