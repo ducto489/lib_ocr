{
 "cells": [
  {
   "cell_type": "code",
   "execution_count": null,
   "id": "971bb4f5",
   "metadata": {},
   "outputs": [],
   "source": [
    "import sys\n",
    "sys.path.append('..')"
   ]
  },
  {
   "cell_type": "code",
   "execution_count": null,
   "id": "a626236c",
   "metadata": {},
   "outputs": [],
   "source": [
    "from pytorch_lightning import LightningDataModule\n",
    "from torch.utils.data import DataLoader\n",
    "from nvidia.dali.plugin.pytorch import LastBatchPolicy\n",
    "\n",
    "from data import OCRDataset, OCRCollator, data_transforms, data_transforms_2, process_tgt, Vocab, LightningWrapper, ExternalEncodeCallable\n",
    "from utils import AttnLabelConverter, CTCLabelConverter\n",
    "from loguru import logger\n",
    "import os\n",
    "from nvidia.dali.pipeline import pipeline_def\n",
    "import nvidia.dali.types as types\n",
    "import nvidia.dali.fn as fn\n",
    "import numpy as np\n",
    "import random"
   ]
  },
  {
   "cell_type": "code",
   "execution_count": null,
   "id": "75f2f6f5",
   "metadata": {},
   "outputs": [],
   "source": [
    "class ExternalInputCallable(object):\n",
    "    def __init__(self, steps_per_epoch, data_path, converter, images_names, labels, batch_size=32):\n",
    "        self.data_path = data_path\n",
    "        self.steps_per_epoch = steps_per_epoch\n",
    "        self.converter = converter\n",
    "        self.batch_size = batch_size\n",
    "\n",
    "        self.images_names = images_names\n",
    "        self.labels = labels\n",
    "\n",
    "        self.data = list(zip(images_names, labels))\n",
    "        random.shuffle(self.data)\n",
    "\n",
    "    def __call__(self, sample_info):\n",
    "        idx = sample_info.idx_in_epoch\n",
    "        if idx >= len(self.data):\n",
    "            logger.debug(f\"Trigger skip with {idx=} and {len(self.data)=}\")\n",
    "            # Indicate end of the epoch\n",
    "            raise StopIteration()\n",
    "        image_name, label = self.data[idx % len(self.data)]\n",
    "        image_path = os.path.join(self.data_path, image_name)\n",
    "\n",
    "        with open(image_path, 'rb') as f:\n",
    "            file_bytes = f.read()\n",
    "        \n",
    "        image = np.frombuffer(file_bytes, dtype=np.uint8)\n",
    "        return image, label"
   ]
  },
  {
   "cell_type": "code",
   "execution_count": null,
   "id": "0a137ab1",
   "metadata": {},
   "outputs": [],
   "source": [
    "encoder = AttnLabelConverter() "
   ]
  },
  {
   "cell_type": "code",
   "execution_count": null,
   "id": "b4597347",
   "metadata": {},
   "outputs": [],
   "source": [
    "@pipeline_def(num_threads=8, batch_size=32, device_id=0, py_start_method=\"spawn\", exec_dynamic=True)\n",
    "def get_dali_train_pipeline_webdataset(self):\n",
    "    images, labels = fn.external_source(\n",
    "        source=ExternalInputCallable(\n",
    "            steps_per_epoch = self.steps_per_epoch,\n",
    "            data_path = self.train_data_path,\n",
    "            converter = self.converter,\n",
    "            images_names = self.train_images_names,\n",
    "            labels = self.train_labels,\n",
    "            batch_size=self.batch_size\n",
    "        ),\n",
    "        num_outputs=2,\n",
    "        batch=False,\n",
    "        parallel=True,\n",
    "        dtype=[types.UINT8, types.STRING],\n",
    "        prefetch_queue_depth=8,\n",
    "    )\n",
    "    \n",
    "    images = fn.decoders.image(images, device=\"cpu\", output_type=types.RGB)\n",
    "    images = fn.rotate(images, device=\"cpu\", angle=fn.random.uniform(range=[-1, 1]), dtype=types.FLOAT)\n",
    "    images = fn.resize(images, device=\"cpu\", resize_y=100)\n",
    "    images = fn.color_twist(images, brightness=fn.random.uniform(range=[0.8, 1.2]), contrast=fn.random.uniform(range=[0.8, 1.2]), saturation=fn.random.uniform(range=[0.8, 1.2]), hue=fn.random.uniform(range=[0, 0.3]))\n",
    "    images = fn.warp_affine(images, matrix=fn.transforms.scale(scale=fn.random.uniform(range=[0.9, 1], shape=[2])), fill_value=0, inverse_map=False)\n",
    "    images = fn.noise.gaussian(images, mean=0.0, stddev=fn.random.uniform(range=[-10, 10])) \n",
    "    images = fn.normalize(images, device=\"cpu\", dtype=types.FLOAT)\n",
    "    images = fn.pad(images, fill_value=0)\n",
    "    indices = fn.pad(indices, fill_value=0)\n",
    "    length = fn.pad(length, fill_value=0)\n",
    "    return images.gpu(), indices.gpu(), length.gpu()"
   ]
  }
 ],
 "metadata": {
  "kernelspec": {
   "display_name": "new_ocr",
   "language": "python",
   "name": "python3"
  },
  "language_info": {
   "name": "python",
   "version": "3.11.11"
  }
 },
 "nbformat": 4,
 "nbformat_minor": 5
}
