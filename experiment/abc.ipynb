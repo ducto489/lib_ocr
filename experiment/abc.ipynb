{
 "cells": [
  {
   "cell_type": "code",
   "execution_count": 1,
   "id": "a7ff8b33",
   "metadata": {},
   "outputs": [
    {
     "data": {
      "text/plain": [
       "'2.5.1'"
      ]
     },
     "execution_count": 1,
     "metadata": {},
     "output_type": "execute_result"
    }
   ],
   "source": [
    "import torch\n",
    "\n",
    "torch.__version__ # 2.2.1+cu121"
   ]
  },
  {
   "cell_type": "code",
   "execution_count": 2,
   "id": "fa8b9c2a",
   "metadata": {},
   "outputs": [
    {
     "data": {
      "text/plain": [
       "'cpu'"
      ]
     },
     "execution_count": 2,
     "metadata": {},
     "output_type": "execute_result"
    }
   ],
   "source": [
    "import torch\n",
    "\n",
    "torch.cpu.is_available() # True\n",
    "\n",
    "torch.cpu.device_count() # 1\n",
    "\n",
    "torch.cpu.current_device() # cpu"
   ]
  },
  {
   "cell_type": "code",
   "execution_count": 3,
   "id": "5c6ba96a",
   "metadata": {},
   "outputs": [
    {
     "data": {
      "text/plain": [
       "1"
      ]
     },
     "execution_count": 3,
     "metadata": {},
     "output_type": "execute_result"
    }
   ],
   "source": [
    "import torch\n",
    "\n",
    "torch.cuda.is_available() # True\n",
    "\n",
    "torch.cuda.device_count() # 1"
   ]
  },
  {
   "cell_type": "code",
   "execution_count": 4,
   "id": "9681f64e",
   "metadata": {},
   "outputs": [
    {
     "data": {
      "text/plain": [
       "'NVIDIA RTX A6000'"
      ]
     },
     "execution_count": 4,
     "metadata": {},
     "output_type": "execute_result"
    }
   ],
   "source": [
    "torch.cuda.current_device() # 0\n",
    "\n",
    "torch.cuda.get_device_name()\n",
    "torch.cuda.get_device_name(device='cuda:0')\n",
    "torch.cuda.get_device_name(device='cuda')\n",
    "torch.cuda.get_device_name(device=0)\n",
    "torch.cuda.get_device_name(device=torch.device(device='cuda:0'))\n",
    "torch.cuda.get_device_name(device=torch.device(device='cuda'))\n",
    "torch.cuda.get_device_name(device=torch.device(device=0))\n",
    "torch.cuda.get_device_name(device=torch.device(type='cuda'))\n",
    "torch.cuda.get_device_name(device=torch.device(type='cuda', index=0))\n",
    "# Tesla T4\n",
    "\n",
    "torch.cuda.get_device_properties(device='cuda:0')\n",
    "torch.cuda.get_device_properties(device='cuda')\n",
    "torch.cuda.get_device_properties(device=0)\n",
    "torch.cuda.get_device_properties(device=torch.device(device='cuda:0'))\n",
    "torch.cuda.get_device_properties(device=torch.device(device='cuda'))\n",
    "torch.cuda.get_device_properties(device=torch.device(device=0))\n",
    "torch.cuda.get_device_name(device=torch.device(type='cuda'))\n",
    "torch.cuda.get_device_name(device=torch.device(type='cuda', index=0))\n",
    "# _CudaDeviceProperties(name='Tesla T4', major=7, minor=5, \n",
    "# total_memory=15102MB, multi_processor_count=40)"
   ]
  }
 ],
 "metadata": {
  "kernelspec": {
   "display_name": "ocr",
   "language": "python",
   "name": "python3"
  },
  "language_info": {
   "codemirror_mode": {
    "name": "ipython",
    "version": 3
   },
   "file_extension": ".py",
   "mimetype": "text/x-python",
   "name": "python",
   "nbconvert_exporter": "python",
   "pygments_lexer": "ipython3",
   "version": "3.11.11"
  }
 },
 "nbformat": 4,
 "nbformat_minor": 5
}
